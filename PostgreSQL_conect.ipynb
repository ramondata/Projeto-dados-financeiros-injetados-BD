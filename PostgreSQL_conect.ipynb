{
 "cells": [
  {
   "cell_type": "code",
   "execution_count": 35,
   "id": "97eb4278",
   "metadata": {},
   "outputs": [],
   "source": [
    "import pandas as pd\n",
    "import psycopg2 as pg"
   ]
  },
  {
   "cell_type": "code",
   "execution_count": 62,
   "id": "da1e8dae",
   "metadata": {},
   "outputs": [
    {
     "name": "stdout",
     "output_type": "stream",
     "text": [
      "<class 'pandas.core.frame.DataFrame'>\n",
      "RangeIndex: 1 entries, 0 to 0\n",
      "Data columns (total 3 columns):\n",
      " #   Column      Non-Null Count  Dtype \n",
      "---  ------      --------------  ----- \n",
      " 0   setor       1 non-null      object\n",
      " 1   ativo       1 non-null      object\n",
      " 2   comentario  1 non-null      object\n",
      "dtypes: object(3)\n",
      "memory usage: 152.0+ bytes\n"
     ]
    }
   ],
   "source": [
    "host='localhost'\n",
    "port='5432'\n",
    "dbname='mercado_financeiro'\n",
    "user='postgres'\n",
    "password='1234'\n",
    "tbname = 'dimensao_market'\n",
    "connection = pg.connect(\"host='{}' port='{}' dbname='{}' user='{}' password='{}'\"\n",
    "                        .format(host, port, dbname, user, password))\n",
    "df = pd.read_sql_query(\"select * from {}\".format(tbname), con=connection)\n",
    "df.info()"
   ]
  },
  {
   "cell_type": "code",
   "execution_count": 63,
   "id": "839b1857",
   "metadata": {},
   "outputs": [
    {
     "data": {
      "text/html": [
       "<div>\n",
       "<style scoped>\n",
       "    .dataframe tbody tr th:only-of-type {\n",
       "        vertical-align: middle;\n",
       "    }\n",
       "\n",
       "    .dataframe tbody tr th {\n",
       "        vertical-align: top;\n",
       "    }\n",
       "\n",
       "    .dataframe thead th {\n",
       "        text-align: right;\n",
       "    }\n",
       "</style>\n",
       "<table border=\"1\" class=\"dataframe\">\n",
       "  <thead>\n",
       "    <tr style=\"text-align: right;\">\n",
       "      <th></th>\n",
       "      <th>setor</th>\n",
       "      <th>ativo</th>\n",
       "      <th>comentario</th>\n",
       "    </tr>\n",
       "  </thead>\n",
       "  <tbody>\n",
       "    <tr>\n",
       "      <th>0</th>\n",
       "      <td>Financeiro</td>\n",
       "      <td>JPM</td>\n",
       "      <td>comment</td>\n",
       "    </tr>\n",
       "  </tbody>\n",
       "</table>\n",
       "</div>"
      ],
      "text/plain": [
       "        setor ativo comentario\n",
       "0  Financeiro   JPM    comment"
      ]
     },
     "execution_count": 63,
     "metadata": {},
     "output_type": "execute_result"
    }
   ],
   "source": [
    "df.head()"
   ]
  },
  {
   "cell_type": "code",
   "execution_count": 64,
   "id": "53686df7",
   "metadata": {},
   "outputs": [],
   "source": [
    "cur = connection.cursor()"
   ]
  },
  {
   "cell_type": "code",
   "execution_count": 65,
   "id": "11fcbe19",
   "metadata": {},
   "outputs": [],
   "source": [
    "excel = pd.read_excel('Carteira.xlsx',sheet_name='Renda_variavel')\n",
    "setor = (excel['Setor'])\n",
    "ativo = (excel['Ativo'])\n",
    "coment = ()"
   ]
  },
  {
   "cell_type": "code",
   "execution_count": 66,
   "id": "1b0ea57f",
   "metadata": {},
   "outputs": [
    {
     "data": {
      "text/plain": [
       "[('Financeiro', 'JPM', 'comment')]"
      ]
     },
     "execution_count": 66,
     "metadata": {},
     "output_type": "execute_result"
    }
   ],
   "source": [
    "cur.execute(\"select * from dimensao_market;\")\n",
    "cur.fetchall()"
   ]
  },
  {
   "cell_type": "code",
   "execution_count": 67,
   "id": "9adc59c2",
   "metadata": {},
   "outputs": [
    {
     "ename": "UndefinedColumn",
     "evalue": "column \"a_string\" of relation \"dimensao_market\" does not exist\nLINE 1: INSERT INTO dimensao_market (a_string, a_string, a_string) V...\n                                     ^\n",
     "output_type": "error",
     "traceback": [
      "\u001b[1;31m---------------------------------------------------------------------------\u001b[0m",
      "\u001b[1;31mUndefinedColumn\u001b[0m                           Traceback (most recent call last)",
      "\u001b[1;32m<ipython-input-67-81443ca03966>\u001b[0m in \u001b[0;36m<module>\u001b[1;34m\u001b[0m\n\u001b[1;32m----> 1\u001b[1;33m \u001b[0mcur\u001b[0m\u001b[1;33m.\u001b[0m\u001b[0mexecute\u001b[0m\u001b[1;33m(\u001b[0m\u001b[1;34m\"\"\"INSERT INTO dimensao_market (a_string, a_string, a_string) VALUES ('Financeiro','BAC','No comment');\"\"\"\u001b[0m \u001b[1;33m)\u001b[0m\u001b[1;33m\u001b[0m\u001b[1;33m\u001b[0m\u001b[0m\n\u001b[0m",
      "\u001b[1;31mUndefinedColumn\u001b[0m: column \"a_string\" of relation \"dimensao_market\" does not exist\nLINE 1: INSERT INTO dimensao_market (a_string, a_string, a_string) V...\n                                     ^\n"
     ]
    }
   ],
   "source": [
    "cur.execute(\"\"\"INSERT INTO dimensao_market (a_string, a_string, a_string) VALUES"
   ]
  },
  {
   "cell_type": "code",
   "execution_count": null,
   "id": "ad1a28c2",
   "metadata": {},
   "outputs": [],
   "source": []
  },
  {
   "cell_type": "code",
   "execution_count": null,
   "id": "e43f5bad",
   "metadata": {},
   "outputs": [],
   "source": []
  },
  {
   "cell_type": "code",
   "execution_count": null,
   "id": "5a2383d9",
   "metadata": {},
   "outputs": [],
   "source": []
  },
  {
   "cell_type": "code",
   "execution_count": null,
   "id": "99ec29b5",
   "metadata": {},
   "outputs": [],
   "source": []
  },
  {
   "cell_type": "code",
   "execution_count": null,
   "id": "f5f6ad14",
   "metadata": {},
   "outputs": [],
   "source": []
  }
 ],
 "metadata": {
  "kernelspec": {
   "display_name": "Python 3",
   "language": "python",
   "name": "python3"
  },
  "language_info": {
   "codemirror_mode": {
    "name": "ipython",
    "version": 3
   },
   "file_extension": ".py",
   "mimetype": "text/x-python",
   "name": "python",
   "nbconvert_exporter": "python",
   "pygments_lexer": "ipython3",
   "version": "3.8.8"
  }
 },
 "nbformat": 4,
 "nbformat_minor": 5
}
